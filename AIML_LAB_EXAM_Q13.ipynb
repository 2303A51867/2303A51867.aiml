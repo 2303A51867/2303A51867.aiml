{
  "nbformat": 4,
  "nbformat_minor": 0,
  "metadata": {
    "colab": {
      "provenance": [],
      "authorship_tag": "ABX9TyNTwMwlUPW0VVZYeLfE4d6d",
      "include_colab_link": true
    },
    "kernelspec": {
      "name": "python3",
      "display_name": "Python 3"
    },
    "language_info": {
      "name": "python"
    }
  },
  "cells": [
    {
      "cell_type": "markdown",
      "metadata": {
        "id": "view-in-github",
        "colab_type": "text"
      },
      "source": [
        "<a href=\"https://colab.research.google.com/github/2303A51867/2303A51867.aiml/blob/main/AIML_LAB_EXAM_Q13.ipynb\" target=\"_parent\"><img src=\"https://colab.research.google.com/assets/colab-badge.svg\" alt=\"Open In Colab\"/></a>"
      ]
    },
    {
      "cell_type": "markdown",
      "source": [
        "Prediction of Bike rentals and sharing\n",
        "\n",
        "Identify the top 5 days when rentals are most\n",
        "Predict the holidays when bike sharing was most\n",
        "Top 5 reasons for bike sharing or rentals\n",
        "Name the weather condition most suitable for bike rentals\n",
        "Identify the hourly utilisation of bike rentals and sharing the most.\n",
        "\n",
        "\n",
        "---\n",
        "\n"
      ],
      "metadata": {
        "id": "g-yYyKOw5C2y"
      }
    },
    {
      "cell_type": "code",
      "source": [
        "import pandas as pd\n",
        "\n",
        "# Load the dataset (replace with the correct path to your file if needed)\n",
        "day_data = pd.read_csv('/content/day1.csv')\n",
        "\n",
        "# 1. Identify the Top 5 Days When Rentals Are the Most\n",
        "top_5_days = day_data.nlargest(5, 'cnt')[['dteday', 'cnt']]\n",
        "print(\"Top 5 Days with Most Rentals:\")\n",
        "print(top_5_days)"
      ],
      "metadata": {
        "colab": {
          "base_uri": "https://localhost:8080/"
        },
        "id": "z_eGhsEu5G52",
        "outputId": "f92cb708-4ab5-4ffa-96b6-f9dc5a7d44aa"
      },
      "execution_count": 2,
      "outputs": [
        {
          "output_type": "stream",
          "name": "stdout",
          "text": [
            "Top 5 Days with Most Rentals:\n",
            "         dteday   cnt\n",
            "623  15-09-2012  8714\n",
            "637  29-09-2012  8555\n",
            "630  22-09-2012  8395\n",
            "447  23-03-2012  8362\n",
            "504  19-05-2012  8294\n"
          ]
        }
      ]
    },
    {
      "cell_type": "code",
      "source": [
        "# 2. Predict the Holidays When Bike Sharing Was Most\n",
        "top_holidays = day_data[day_data['holiday'] == 1].nlargest(5, 'cnt')[['dteday', 'cnt']]\n",
        "print(\"\\nTop Holidays with the Most Rentals:\")\n",
        "print(top_holidays)"
      ],
      "metadata": {
        "id": "NrFDAynx5R4y",
        "colab": {
          "base_uri": "https://localhost:8080/"
        },
        "outputId": "0b8dd379-1777-4387-ea15-ce33eecad286"
      },
      "execution_count": 4,
      "outputs": [
        {
          "output_type": "stream",
          "name": "stdout",
          "text": [
            "\n",
            "Top Holidays with the Most Rentals:\n",
            "         dteday   cnt\n",
            "550  04-07-2012  7403\n",
            "471  16-04-2012  6370\n",
            "681  12-11-2012  6269\n",
            "184  04-07-2011  6043\n",
            "513  28-05-2012  6043\n"
          ]
        }
      ]
    },
    {
      "cell_type": "code",
      "source": [
        "# 3. Top 5 Reasons for Bike Sharing or Rentals\n",
        "# Aggregate rentals by weather, working day, and season\n",
        "reasons = day_data.groupby(['weathersit', 'workingday', 'season'])['cnt'].mean().reset_index()\n",
        "reasons_sorted = reasons.sort_values(by='cnt', ascending=False).head(5)\n",
        "print(\"\\nTop 5 Reasons for Rentals:\")\n",
        "print(reasons_sorted)"
      ],
      "metadata": {
        "id": "tPFZfVwc5Ze2",
        "colab": {
          "base_uri": "https://localhost:8080/"
        },
        "outputId": "ddd593fd-fb6e-46b6-a052-26908f6d04a0"
      },
      "execution_count": 5,
      "outputs": [
        {
          "output_type": "stream",
          "name": "stdout",
          "text": [
            "\n",
            "Top 5 Reasons for Rentals:\n",
            "    weathersit  workingday  season          cnt\n",
            "6            1           1       3  5961.237113\n",
            "1            1           0       2  5821.194444\n",
            "2            1           0       3  5671.871795\n",
            "5            1           1       2  5421.077922\n",
            "14           2           1       3  5299.516129\n"
          ]
        }
      ]
    },
    {
      "cell_type": "code",
      "source": [
        "# 4. Name the Weather Condition Most Suitable for Bike Rentals\n",
        "weather_condition = day_data.groupby('weathersit')['cnt'].mean().reset_index()\n",
        "best_weather = weather_condition.sort_values(by='cnt', ascending=False).iloc[0]\n",
        "print(f\"\\nMost Suitable Weather Condition: {best_weather}\")"
      ],
      "metadata": {
        "id": "20-z1QM85dLo",
        "colab": {
          "base_uri": "https://localhost:8080/"
        },
        "outputId": "aff6d23d-0451-41aa-8b5d-2c93b88b83b9"
      },
      "execution_count": 6,
      "outputs": [
        {
          "output_type": "stream",
          "name": "stdout",
          "text": [
            "\n",
            "Most Suitable Weather Condition: weathersit       1.000000\n",
            "cnt           4876.786177\n",
            "Name: 0, dtype: float64\n"
          ]
        }
      ]
    },
    {
      "cell_type": "code",
      "source": [
        "# 5. Identify the Hourly Utilization of Bike Rentals and Sharing the Most\n",
        "\n",
        "hour_data = pd.read_csv('/content/path.csv')  # Replace with your actual path\n",
        "\n",
        "hourly_usage = hour_data.groupby('hr')['cnt'].mean().reset_index()\n",
        "peak_hour = hourly_usage.sort_values(by='cnt', ascending=False).iloc[0]\n",
        "print(f\"\\nPeak Hour for Rentals: {peak_hour}\")"
      ],
      "metadata": {
        "id": "bl73Ap9X5g2c",
        "colab": {
          "base_uri": "https://localhost:8080/"
        },
        "outputId": "701fb9c2-ea46-400b-ae99-b87112d50c0d"
      },
      "execution_count": 7,
      "outputs": [
        {
          "output_type": "stream",
          "name": "stdout",
          "text": [
            "\n",
            "Peak Hour for Rentals: hr      17.000000\n",
            "cnt    461.452055\n",
            "Name: 17, dtype: float64\n"
          ]
        }
      ]
    },
    {
      "cell_type": "code",
      "source": [
        "from google.colab import drive\n",
        "drive.mount('/content/drive')"
      ],
      "metadata": {
        "id": "Le8jPy5w7w60"
      },
      "execution_count": null,
      "outputs": []
    }
  ]
}